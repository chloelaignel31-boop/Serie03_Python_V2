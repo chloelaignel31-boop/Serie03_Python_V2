{
 "cells": [
  {
   "cell_type": "code",
   "execution_count": 27,
   "metadata": {
    "tags": [
     "hide"
    ]
   },
   "outputs": [
    {
     "data": {
      "text/markdown": [
       "# Series03-python : Find remarkable points in a signal"
      ],
      "text/plain": [
       "<IPython.core.display.Markdown object>"
      ]
     },
     "metadata": {},
     "output_type": "display_data"
    },
    {
     "data": {
      "text/markdown": [
       "15 October 2025, 11:02:02"
      ],
      "text/plain": [
       "<IPython.core.display.Markdown object>"
      ]
     },
     "metadata": {},
     "output_type": "display_data"
    },
    {
     "data": {
      "text/markdown": [
       "by Inès VINCENT (and Copilot)"
      ],
      "text/plain": [
       "<IPython.core.display.Markdown object>"
      ]
     },
     "metadata": {},
     "output_type": "display_data"
    }
   ],
   "source": [
    "# Header for the notebook\n",
    "from datetime import datetime\n",
    "from IPython.display import display, Markdown\n",
    "\n",
    "# Get the current date\n",
    "title = \"Series03-python : Find remarkable points in a signal\"\n",
    "current_date = datetime.now().strftime(\"%d %B %Y, %H:%M:%S\")\n",
    "authors = \"Inès VINCENT (and Copilot)\"\n",
    "\n",
    "# Insert the date into the notebook\n",
    "display(Markdown(f\"# {title}\"))\n",
    "display(Markdown(f\"{current_date}\"))\n",
    "display(Markdown(f\"by {authors}\"))"
   ]
  },
  {
   "cell_type": "markdown",
   "metadata": {},
   "source": [
    "The goal of this series is again to code something useful, from theory to code.\n",
    "The first step was a homework to make clear the theory and concepts relative to remarkable points, and to derivatives and their properties.\n",
    "\n",
    "The current step is to code the identification of remarkable points and their visualization.\n",
    "\n",
    "To do so, we create a new project series03-python using the template. We adapt the content of the project to the current series, and make the initial commit."
   ]
  },
  {
   "cell_type": "code",
   "execution_count": 2,
   "metadata": {},
   "outputs": [],
   "source": [
    "# imports \n",
    "import numpy as np\n",
    "import matplotlib.pyplot as plt\n",
    "import os\n",
    "\n",
    "\n",
    "# The following magic command enables interactive matplotlib plots using ipywidgets.\n",
    "# You may need to install 'ipywidgets' and 'ipympl' for this to work.\n",
    "%matplotlib widget  "
   ]
  },
  {
   "cell_type": "markdown",
   "metadata": {},
   "source": [
    "# Draft solution"
   ]
  },
  {
   "cell_type": "code",
   "execution_count": null,
   "metadata": {},
   "outputs": [
    {
     "name": "stdout",
     "output_type": "stream",
     "text": [
      "Signal s: [-1, 1, 2, 1, 0, -1, 1, 2]\n",
      "Sign s:   [-1  1  1  1  0 -1  1  1]\n",
      "Change sign: [ 2  0  0 -1 -1  2  0]\n",
      "Sign s short: [ 1  1  1  0 -1  1  1]\n",
      "Change sign 2: [ 2  0  0  0 -1  2  0]\n",
      "Is zero crossing: [ True False False False  True  True False]\n"
     ]
    },
    {
     "ename": "TypeError",
     "evalue": "only integer scalar arrays can be converted to a scalar index",
     "output_type": "error",
     "traceback": [
      "\u001b[31m---------------------------------------------------------------------------\u001b[39m",
      "\u001b[31mTypeError\u001b[39m                                 Traceback (most recent call last)",
      "\u001b[36mCell\u001b[39m\u001b[36m \u001b[39m\u001b[32mIn[14]\u001b[39m\u001b[32m, line 33\u001b[39m\n\u001b[32m     31\u001b[39m \u001b[38;5;66;03m# Plot the signal\u001b[39;00m\n\u001b[32m     32\u001b[39m plt.plot(t, s,\u001b[33m'\u001b[39m\u001b[33m-*b\u001b[39m\u001b[33m'\u001b[39m)\n\u001b[32m---> \u001b[39m\u001b[32m33\u001b[39m plt.plot(t[is_zero_crossing], s[is_zero_crossing],\u001b[33m'\u001b[39m\u001b[33m-*r\u001b[39m\u001b[33m'\u001b[39m)\n\u001b[32m     34\u001b[39m plt.title(\u001b[33m'\u001b[39m\u001b[33mSignal s over time t\u001b[39m\u001b[33m'\u001b[39m)\n\u001b[32m     35\u001b[39m plt.xlabel(\u001b[33m'\u001b[39m\u001b[33mTime t\u001b[39m\u001b[33m'\u001b[39m)\n",
      "\u001b[31mTypeError\u001b[39m: only integer scalar arrays can be converted to a scalar index"
     ]
    }
   ],
   "source": [
    "# Create the signal \n",
    "s = [-1, 1, 2, 1, 0, -1, 1, 2]\n",
    "t = [0, 1, 2, 3, 4, 5, 6, 7] # np.arange(len(s))\n",
    "\n",
    "t1 = np.arange(len(s))\n",
    "\n",
    "# Algorithm to find zero crossings\n",
    "sign_s = np.sign(s)\n",
    "difference_of_sign = np.diff(sign_s)\n",
    "\n",
    "# keep the values starting at 1 up to the end\n",
    "sign_s_short = sign_s[1:]  # sign_s without the last element\n",
    "\n",
    "#change signe should be zero if sign_s_short is zero\n",
    "# and should be equal to sign_s_short otherwise\n",
    "# this is a way to filter out the zero values in sign_s_short\n",
    "difference_of_sign_2= np.where(sign_s_short == 0, 0, difference_of_sign)\n",
    "\n",
    "is_zero_crossing = difference_of_sign_2 != 0\n",
    "\n",
    "# index of zero crossings\n",
    "index_zero_crossings = np.where(is_zero_crossing)[0] + 1  #\n",
    "\n",
    "print(\"Signal s:\", s)\n",
    "print(\"Sign s:  \", sign_s)\n",
    "print(\"Change sign:\", difference_of_sign)\n",
    "print(\"Sign s short:\", sign_s_short)\n",
    "print(\"Change sign 2:\", difference_of_sign_2)\n",
    "print (\"Is zero crossing:\", is_zero_crossing)\n",
    "\n",
    "# Plot the signal\n",
    "plt.plot(t, s,'-*b')\n",
    "plt.plot(t[is_zero_crossing], s[is_zero_crossing],'-*r')\n",
    "plt.title('Signal s over time t')\n",
    "plt.xlabel('Time t')\n",
    "plt.ylabel('Signal s')\n",
    "plt.grid()\n",
    "plt.show()\n"
   ]
  },
  {
   "cell_type": "code",
   "execution_count": 29,
   "metadata": {
    "tags": [
     "hide"
    ]
   },
   "outputs": [],
   "source": [
    "# https://nbconvert.readthedocs.io/en/latest/removing_cells.html\n",
    "\n",
    "# https://github.com/msm1089/ipynbname/issues/17#issuecomment-1293269863\n",
    "\n",
    "\n",
    "from traitlets.config import Config\n",
    "from nbconvert.exporters import HTMLExporter\n",
    "from nbconvert.preprocessors import TagRemovePreprocessor\n",
    "from IPython import get_ipython\n",
    "\n",
    "\n",
    "def get_notebook_name():\n",
    "    \"\"\"\n",
    "    Get the current notebook name (without extension).\n",
    "    \"\"\"\n",
    "    ip = get_ipython()\n",
    "    path = None\n",
    "    if \"__vsc_ipynb_file__\" in ip.user_ns:\n",
    "        path = ip.user_ns[\"__vsc_ipynb_file__\"]\n",
    "\n",
    "    return path.split(\"/\")[-1].split(\".\")[0]\n",
    "\n",
    "\n",
    "# Get the notebook name\n",
    "notebook_file_name = get_notebook_name()\n",
    "\n",
    "\n",
    "# Setup config\n",
    "c = Config()\n",
    "\n",
    "# Configure tag removal - be sure to tag your cells to remove  using the\n",
    "# words remove_cell to remove cells. You can also modify the code to use\n",
    "# a different tag word\n",
    "c.TagRemovePreprocessor.remove_cell_tags = (\"remove\",)\n",
    "c.TagRemovePreprocessor.remove_all_outputs_tags = (\"remove_output\",)\n",
    "c.TagRemovePreprocessor.remove_input_tags = (\"hide\",)\n",
    "c.TagRemovePreprocessor.enabled = True\n",
    "c.HTMLExporter.preprocessors = [\"nbconvert.preprocessors.TagRemovePreprocessor\"]\n",
    "\n",
    "# ensure the graphics are included in the html\n",
    "c.HTMLExporter.embed_images = True\n",
    "# do not show the input code cells (distracts from the output)\n",
    "c.HTMLExporter.exclude_output_prompt = True\n",
    "c.HTMLExporter.exclude_input_prompt = True\n",
    "\n",
    "# Configure the exporter\n",
    "exporter = HTMLExporter(config=c)\n",
    "exporter.register_preprocessor(TagRemovePreprocessor(config=c), True)\n",
    "\n",
    "\n",
    "# run our exporter - returns a tuple - first element with html,\n",
    "# second with notebook metadata\n",
    "output = HTMLExporter(config=c).from_filename(notebook_file_name + \".ipynb\")\n",
    "\n",
    "# Write to output html file\n",
    "with open(notebook_file_name + \".html\", \"w\") as f:\n",
    "    f.write(output[0])\n",
    "\n",
    "# open the file with the operating system\n",
    "import os\n",
    "\n",
    "# if osx use open, if linux use xdg-open, if windows use start\n",
    "try:\n",
    "    if os.name == \"posix\":\n",
    "        if os.uname().sysname == \"Darwin\":\n",
    "            # macOS\n",
    "            errorCode = os.system(\"open \" + notebook_file_name + \".html\")\n",
    "        else:\n",
    "            # Linux\n",
    "            errorCode = os.system(\"xdg-open \" + notebook_file_name + \".html\")\n",
    "    elif os.name == \"nt\":\n",
    "        # Windows\n",
    "        errorCode = os.system(\"start \" + notebook_file_name + \".html\")\n",
    "    else:\n",
    "        print(\"Unsupported OS\")\n",
    "except Exception as e:\n",
    "    print(\"Error opening file: \", e)"
   ]
  }
 ],
 "metadata": {
  "kernelspec": {
   "display_name": "base",
   "language": "python",
   "name": "python3"
  },
  "language_info": {
   "codemirror_mode": {
    "name": "ipython",
    "version": 3
   },
   "file_extension": ".py",
   "mimetype": "text/x-python",
   "name": "python",
   "nbconvert_exporter": "python",
   "pygments_lexer": "ipython3",
   "version": "3.13.2"
  },
  "orig_nbformat": 4
 },
 "nbformat": 4,
 "nbformat_minor": 2
}
